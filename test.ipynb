{
 "cells": [
  {
   "cell_type": "code",
   "execution_count": 6,
   "metadata": {},
   "outputs": [],
   "source": [
    "import json\n",
    "\n",
    "filepath = r\"D:\\SIA\\omar-flinkRole\\business_rules.json\"\n",
    "\n",
    "def read_json_objects(file_path):\n",
    "    with open(file_path, \"r\") as file:\n",
    "        data = json.load(file)\n",
    "        data = data.get(\"businessRules\")\n",
    "        for record in data:\n",
    "            yield record"
   ]
  },
  {
   "cell_type": "code",
   "execution_count": 7,
   "metadata": {},
   "outputs": [
    {
     "name": "stdout",
     "output_type": "stream",
     "text": [
      "Recommend Installment Card for Gold Customers\n",
      "--------------------------------------------------\n",
      "Offer Cashback for Silver Customers\n",
      "--------------------------------------------------\n",
      "Promote Premium Card for Platinum Customers\n",
      "--------------------------------------------------\n",
      "Exclusive Offer for Diamond Customers\n",
      "--------------------------------------------------\n",
      "Discount Offer for Gold Customers\n",
      "--------------------------------------------------\n",
      "Travel Insurance for Silver Customers\n",
      "--------------------------------------------------\n",
      "Exclusive Dining Deals for Gold Customers\n",
      "--------------------------------------------------\n",
      "Upgrade Alert for Silver Customers\n",
      "--------------------------------------------------\n",
      "Retail Discount for Diamond Customers\n",
      "--------------------------------------------------\n",
      "Student Offer for New Customers\n",
      "--------------------------------------------------\n"
     ]
    }
   ],
   "source": [
    "data= read_json_objects(filepath)\n",
    "for i in data:\n",
    "    print(i[\"ruleName\"])\n",
    "    print(50 * \"-\")"
   ]
  },
  {
   "cell_type": "code",
   "execution_count": null,
   "metadata": {},
   "outputs": [],
   "source": [
    "for i in data:\n",
    "    print(i)"
   ]
  },
  {
   "cell_type": "code",
   "execution_count": 12,
   "metadata": {},
   "outputs": [],
   "source": []
  },
  {
   "cell_type": "code",
   "execution_count": null,
   "metadata": {},
   "outputs": [],
   "source": []
  }
 ],
 "metadata": {
  "kernelspec": {
   "display_name": "env",
   "language": "python",
   "name": "python3"
  },
  "language_info": {
   "codemirror_mode": {
    "name": "ipython",
    "version": 3
   },
   "file_extension": ".py",
   "mimetype": "text/x-python",
   "name": "python",
   "nbconvert_exporter": "python",
   "pygments_lexer": "ipython3",
   "version": "3.11.2"
  }
 },
 "nbformat": 4,
 "nbformat_minor": 2
}
