{
 "cells": [
  {
   "cell_type": "code",
   "execution_count": 1,
   "metadata": {},
   "outputs": [],
   "source": [
    "from redis import Redis\n",
    "from kafka import KafkaProducer\n",
    "import json\n",
    "import time\n",
    "\n",
    "# Configuration for Redis and Kafka\n",
    "REDIS_HOST = \"localhost\"\n",
    "REDIS_PORT = 6379\n",
    "REDIS_CHANNEL = \"your_redis_channel\"\n",
    "REDIS_STORAGE_KEY = \"persistent_storage\"\n",
    "\n",
    "KAFKA_BROKER = \"localhost:9092\"\n",
    "KAFKA_TOPIC = \"CreditCardTransaction\"\n",
    "\n",
    "# Initialize Redis client\n",
    "redis_client = Redis(host=REDIS_HOST, port=REDIS_PORT)\n",
    "\n",
    "# Initialize Kafka producer\n",
    "producer = KafkaProducer(\n",
    "    bootstrap_servers=KAFKA_BROKER,\n",
    "    value_serializer=lambda v: json.dumps(v).encode(\"utf-8\"),\n",
    ")"
   ]
  },
  {
   "cell_type": "code",
   "execution_count": 2,
   "metadata": {},
   "outputs": [],
   "source": [
    "def stream_from_redis_to_kafka():\n",
    "    \"\"\"Stream data from Redis to Kafka.\"\"\"\n",
    "    pubsub = redis_client.pubsub()\n",
    "    pubsub.subscribe(REDIS_CHANNEL)\n",
    "    print(f\"Subscribed to Redis channel: {REDIS_CHANNEL}\")\n",
    "\n",
    "    for message in pubsub.listen():\n",
    "        if message[\"type\"] == \"message\":\n",
    "            data = message[\"data\"].decode(\"utf-8\")\n",
    "            print(f\"Received message from Redis: {data}\")\n",
    "\n",
    "            # Send the message to Kafka\n",
    "            producer.send(KAFKA_TOPIC, {\"message\": data})\n",
    "            print(f\"Sent message to Kafka topic: {KAFKA_TOPIC}\")"
   ]
  },
  {
   "cell_type": "code",
   "execution_count": 3,
   "metadata": {},
   "outputs": [],
   "source": [
    "def list_redis_channels():\n",
    "    \"\"\"List all active channels in Redis.\"\"\"\n",
    "    channels = redis_client.pubsub_channels()\n",
    "    print(\"Active Redis channels:\")\n",
    "    for channel in channels:\n",
    "        print(channel.decode(\"utf-8\"))"
   ]
  },
  {
   "cell_type": "code",
   "execution_count": 2,
   "metadata": {},
   "outputs": [],
   "source": [
    "def write_to_redis_channels():\n",
    "    \"\"\"Write data to Redis channels and persist in storage.\"\"\"\n",
    "    try:\n",
    "        while True:\n",
    "            channel = input(\"Enter Redis channel name (or 'exit' to stop): \")\n",
    "            if channel.lower() == \"exit\":\n",
    "                break\n",
    "            message = input(f\"Enter message for channel '{channel}': \")\n",
    "\n",
    "            # Persist the message in Redis storage (list)\n",
    "            redis_client.rpush(\n",
    "                REDIS_STORAGE_KEY, json.dumps({\"channel\": channel, \"message\": message})\n",
    "            )\n",
    "            print(f\"Stored message in Redis key '{REDIS_STORAGE_KEY}': {message}\")\n",
    "\n",
    "            # Publish the message to the channel\n",
    "            redis_client.publish(channel, message)\n",
    "            print(f\"Published message to Redis channel '{channel}': {message}\")\n",
    "    except KeyboardInterrupt:\n",
    "        print(\"Stopping the Redis writing loop.\")\n",
    "\n",
    "\n",
    "def retrieve_persistent_data():\n",
    "    \"\"\"Retrieve and display all stored data from Redis.\"\"\"\n",
    "    try:\n",
    "        data = redis_client.lrange(REDIS_STORAGE_KEY, 0, -1)\n",
    "        print(\"Stored messages:\")\n",
    "        for item in data:\n",
    "            print(json.loads(item))\n",
    "    except Exception as e:\n",
    "        print(f\"An error occurred while retrieving data: {e}\")\n",
    "\n",
    "\n",
    "if __name__ == \"__main__\":\n",
    "    try:\n",
    "        print(\"Listing all Redis channels:\")\n",
    "        list_redis_channels()\n",
    "        retrieve_persistent_data()\n",
    "        write_to_redis_channels()\n",
    "        stream_from_redis_to_kafka()\n",
    "    except KeyboardInterrupt:\n",
    "        print(\"Stopping the process.\")\n",
    "    except Exception as e:\n",
    "        print(f\"An error occurred: {e}\")"
   ]
  },
  {
   "cell_type": "code",
   "execution_count": 3,
   "metadata": {},
   "outputs": [],
   "source": [
    "# exists = redis_client.exists(\"name\")\n",
    "# print(exists)  # Output: 1 (if exists), 0 (if not exists)"
   ]
  },
  {
   "cell_type": "code",
   "execution_count": 4,
   "metadata": {},
   "outputs": [],
   "source": [
    "# redis_client.delete(\"tasks\")"
   ]
  },
  {
   "cell_type": "code",
   "execution_count": 5,
   "metadata": {},
   "outputs": [],
   "source": [
    "# redis_client.rpush('tasks','task5','task6')\n",
    "# tasks = redis_client.lrange(\"tasks\", 0, -1)\n",
    "# print([task.decode() for task in tasks])  # Output: ['task1', 'task2', 'task3']"
   ]
  },
  {
   "cell_type": "code",
   "execution_count": 6,
   "metadata": {},
   "outputs": [],
   "source": [
    "# redis_client.sadd(\"skills\", \"Python\", \"SQL\", \"Machine Learning\")\n",
    "# skills = redis_client.smembers(\"skills\")\n",
    "# print(\n",
    "#     {skill.decode() for skill in skills}\n",
    "# )  # Output: {'Python', 'SQL', 'Machine Learning'}"
   ]
  },
  {
   "cell_type": "code",
   "execution_count": null,
   "metadata": {},
   "outputs": [],
   "source": [
    "redis_client.publish(\"notifications\", \"Hello, Redis!galal\")"
   ]
  },
  {
   "cell_type": "code",
   "execution_count": null,
   "metadata": {},
   "outputs": [],
   "source": [
    "pubsub = redis_client.pubsub()\n",
    "pubsub.subscribe(\"notifications\")\n",
    "\n",
    "for message in pubsub.listen():\n",
    "    print(message)  # Listen for published messages"
   ]
  },
  {
   "cell_type": "code",
   "execution_count": 5,
   "metadata": {},
   "outputs": [
    {
     "data": {
      "text/plain": [
       "'61.72'"
      ]
     },
     "execution_count": 5,
     "metadata": {},
     "output_type": "execute_result"
    }
   ],
   "source": [
    "x = \"$61.72\"\n",
    "x[1:]"
   ]
  },
  {
   "cell_type": "markdown",
   "metadata": {},
   "source": [
    "## sql"
   ]
  },
  {
   "cell_type": "code",
   "execution_count": 47,
   "metadata": {},
   "outputs": [],
   "source": [
    "import pyodbc\n",
    "import pandas as pd\n",
    "\n",
    "\n",
    "def db_connection(\n",
    "    server_name=\"DESKTOP-5DG0EQD\\\\SQLEXPRESS\",\n",
    "    database=\"SIA\",\n",
    "    username=\"Galal\",\n",
    "    password=\"123456789\",\n",
    "    Table=\"MCC_Categories\",\n",
    "):\n",
    "    try:\n",
    "\n",
    "        # Define your connection parameters\n",
    "        server_name = server_name\n",
    "        database = database\n",
    "        username = username\n",
    "        password = password\n",
    "\n",
    "        # Create a connection to the database\n",
    "        conn_str = f\"DRIVER={{SQL Server}};SERVER={server_name};DATABASE={database};UID={username};PWD={password};\"\n",
    "        conn = pyodbc.connect(conn_str)\n",
    "        cursor = conn.cursor()\n",
    "        query = f\"SELECT * FROM {Table}\"\n",
    "        cursor.execute(query)\n",
    "        rows = cursor.fetchall()\n",
    "\n",
    "        columns = [column[0] for column in cursor.description]\n",
    "        print(f\"Database Schema: {columns}\")\n",
    "\n",
    "        df = pd.DataFrame.from_records(rows, columns=columns)\n",
    "\n",
    "        cursor.close()\n",
    "        conn.close()\n",
    "\n",
    "        return df\n",
    "    except Exception as e:\n",
    "        print(f\"Error connecting to the database: {e}\")"
   ]
  },
  {
   "cell_type": "code",
   "execution_count": 55,
   "metadata": {},
   "outputs": [
    {
     "name": "stdout",
     "output_type": "stream",
     "text": [
      "Database Schema: ['MCC', 'Category']\n",
      "['MCC' 'Category']\n"
     ]
    }
   ],
   "source": [
    "print(db_connection().columns.values)"
   ]
  },
  {
   "cell_type": "code",
   "execution_count": null,
   "metadata": {},
   "outputs": [],
   "source": []
  }
 ],
 "metadata": {
  "kernelspec": {
   "display_name": "env",
   "language": "python",
   "name": "python3"
  },
  "language_info": {
   "codemirror_mode": {
    "name": "ipython",
    "version": 3
   },
   "file_extension": ".py",
   "mimetype": "text/x-python",
   "name": "python",
   "nbconvert_exporter": "python",
   "pygments_lexer": "ipython3",
   "version": "3.11.2"
  }
 },
 "nbformat": 4,
 "nbformat_minor": 2
}
